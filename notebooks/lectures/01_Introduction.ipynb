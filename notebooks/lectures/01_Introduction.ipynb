{
 "cells": [
  {
   "cell_type": "markdown",
   "id": "130a46ed",
   "metadata": {},
   "source": [
    "# 🧬 Introduction to Bioinformatics with Biotite\n",
    "This notebook demonstrates how to work with biological sequences in Python using the **Biotite** library.\n",
    "\n",
    "We will:\n",
    "1. Read DNA sequences from a FASTA file.\n",
    "2. Extract headers and sequences.\n",
    "3. Compute sequence properties (length, base counts).\n",
    "4. Calculate GC content and visualize it.\n",
    "5. Read FASTQ files and extract sequence + quality.\n",
    "6. Plot quality scores across a sequence.\n",
    "\n",
    "---"
   ]
  },
  {
   "cell_type": "code",
   "execution_count": 1,
   "id": "775296ff",
   "metadata": {},
   "outputs": [],
   "source": [
    "import biotite.sequence.io.fasta as fasta\n",
    "import biotite.sequence.io.fastq as fastq\n",
    "from biotite.sequence import NucleotideSequence, AlphabetError\n",
    "import matplotlib.pyplot as plt\n",
    "import numpy as np"
   ]
  },
  {
   "cell_type": "markdown",
   "id": "b9354cc0",
   "metadata": {},
   "source": [
    "## Step 1: Read a FASTA file\n",
    "\n",
    "FASTA format:\n",
    "- A header line starting with \">\"\n",
    "- The sequence itself (DNA, RNA, or protein)\n",
    "\n",
    "Let's load a small example FASTA file."
   ]
  },
  {
   "cell_type": "code",
   "execution_count": 2,
   "id": "2b007742",
   "metadata": {},
   "outputs": [
    {
     "name": "stdout",
     "output_type": "stream",
     "text": [
      "File content:\n",
      ">Sequence_1\n",
      "ATGCGTACGTAGCTAGCTAGCTAGCTAGCTAGCGTAGCTAGCTAGCTAGCGATCGATCGATCG\n",
      ">Sequence_2\n",
      "GGGGCCCCAAAATTTTGGGCCCAAATTTGGGCCCAGATATATATATGGGCCCTTTGGGCCC\n",
      ">Sequence_3\n",
      "ATATATATATATATATATATATATATATATATATATATATATATATATATATATATATATA\n"
     ]
    }
   ],
   "source": [
    "# Example FASTA file content\n",
    "print(\"File content:\")\n",
    "with open(\"data/01_example.fasta\", \"r\") as f:\n",
    "    for line in f.readlines():\n",
    "        print(line.strip())"
   ]
  },
  {
   "cell_type": "markdown",
   "id": "3cc80efe-5468-445d-a6d8-76c42253f6d9",
   "metadata": {},
   "source": [
    "Reading the fasta file like a pro"
   ]
  },
  {
   "cell_type": "code",
   "execution_count": 3,
   "id": "b47074c7-374f-4809-b892-9784a59e326e",
   "metadata": {},
   "outputs": [
    {
     "name": "stdout",
     "output_type": "stream",
     "text": [
      "Headers in file: ['Sequence_1', 'Sequence_2', 'Sequence_3']\n",
      "Header: Sequence_1\n",
      "First 50 bases: ATGCGTACGTAGCTAGCTAGCTAGCTAGCTAGCGTAGCTAGCTAGCTAGC\n"
     ]
    }
   ],
   "source": [
    "fasta_file = fasta.FastaFile.read(\"data/01_example.fasta\")\n",
    "print(\"Headers in file:\", list(fasta_file.keys()))\n",
    "\n",
    "header = list(fasta_file.keys())[0]\n",
    "seq = fasta.get_sequence(fasta_file, header)\n",
    "print(\"Header:\", header)\n",
    "print(\"First 50 bases:\", seq[:50])"
   ]
  },
  {
   "cell_type": "markdown",
   "id": "deae0aef",
   "metadata": {},
   "source": [
    "## Step 2: Explore sequence properties\n",
    "\n",
    "We can treat the sequence like a Python object."
   ]
  },
  {
   "cell_type": "code",
   "execution_count": 27,
   "id": "c7eb9335-b4eb-40e9-a5ab-c37e9a1b5743",
   "metadata": {},
   "outputs": [
    {
     "name": "stdout",
     "output_type": "stream",
     "text": [
      "Length: 63\n",
      "seq (Biotite object)\n",
      "ATGCGTACGTAGCTAGCTAGCTAGCTAGCTAGCGTAGCTAGCTAGCTAGCGATCGATCGATCG\n",
      "<class 'biotite.sequence.NucleotideSequence'>\n",
      "------------------------------------------------\n",
      "seq.symbols (Numpy object)\n",
      "['A' 'T' 'G' 'C' 'G' 'T' 'A' 'C' 'G' 'T' 'A' 'G' 'C' 'T' 'A' 'G' 'C' 'T'\n",
      " 'A' 'G' 'C' 'T' 'A' 'G' 'C' 'T' 'A' 'G' 'C' 'T' 'A' 'G' 'C' 'G' 'T' 'A'\n",
      " 'G' 'C' 'T' 'A' 'G' 'C' 'T' 'A' 'G' 'C' 'T' 'A' 'G' 'C' 'G' 'A' 'T' 'C'\n",
      " 'G' 'A' 'T' 'C' 'G' 'A' 'T' 'C' 'G']\n",
      "<class 'numpy.ndarray'>\n"
     ]
    }
   ],
   "source": [
    "print(\"Length:\", len(seq))\n",
    "print(\"seq (Biotite object)\")\n",
    "print(seq)            # Biotite object\n",
    "print(type(seq))\n",
    "print('-'*48)\n",
    "print(\"seq.symbols (Numpy object)\")\n",
    "print(seq.symbols)    # Numpy object\n",
    "print(type(seq.symbols))"
   ]
  },
  {
   "cell_type": "markdown",
   "id": "db0cc5f2-a0e8-4ede-9e3c-29e230aa65da",
   "metadata": {},
   "source": [
    "We can easily count the number of each nuclotides"
   ]
  },
  {
   "cell_type": "code",
   "execution_count": 28,
   "id": "4a4f2b9e",
   "metadata": {},
   "outputs": [
    {
     "name": "stdout",
     "output_type": "stream",
     "text": [
      "Base counts: {'A': 15, 'C': 15, 'G': 18, 'T': 15}\n"
     ]
    }
   ],
   "source": [
    "counts = {nt: int(np.sum(seq.symbols == nt)) for nt in \"ACGT\"}\n",
    "print(\"Base counts:\", counts)"
   ]
  },
  {
   "cell_type": "markdown",
   "id": "cc73387d",
   "metadata": {},
   "source": [
    "## Step 3: Compute GC content\n",
    "\n",
    "GC content = fraction of nucleotides that are **Guanine (G)** or **Cytosine (C)**."
   ]
  },
  {
   "cell_type": "code",
   "execution_count": 19,
   "id": "a354638b",
   "metadata": {},
   "outputs": [
    {
     "name": "stdout",
     "output_type": "stream",
     "text": [
      "GC content: 52.38%\n"
     ]
    }
   ],
   "source": [
    "gc_count = int(np.sum(seq.symbols == \"G\")) + int(np.sum(seq.symbols == \"C\"))\n",
    "gc_content = gc_count / len(seq) * 100\n",
    "print(f\"GC content: {gc_content:.2f}%\")"
   ]
  },
  {
   "cell_type": "markdown",
   "id": "bfaa68b6",
   "metadata": {},
   "source": [
    "## Step 4: GC content distribution across sequences\n",
    "\n",
    "If the file contains multiple sequences, we can compute GC% for each."
   ]
  },
  {
   "cell_type": "code",
   "execution_count": 29,
   "id": "0a08597e",
   "metadata": {},
   "outputs": [
    {
     "data": {
      "image/png": "[encoded data removed]",
      "text/plain": [
       "<Figure size 640x480 with 1 Axes>"
      ]
     },
     "metadata": {},
     "output_type": "display_data"
    }
   ],
   "source": [
    "gc_values = []\n",
    "for header in fasta_file.keys():\n",
    "    s = fasta.get_sequence(fasta_file, header)\n",
    "    gc = (int(np.sum(s.symbols == \"G\")) + int(np.sum(s.symbols == \"C\"))) / len(s) * 100\n",
    "    gc_values.append(gc)\n",
    "\n",
    "plt.hist(gc_values, bins=10, edgecolor=\"black\")\n",
    "plt.xlabel(\"GC content (%)\")\n",
    "plt.ylabel(\"Count\")\n",
    "plt.title(\"GC Content Distribution\")\n",
    "plt.show()"
   ]
  },
  {
   "cell_type": "markdown",
   "id": "352c2a6e",
   "metadata": {},
   "source": [
    "## Step 5 (Optional): Translate DNA to protein\n",
    "\n",
    "DNA can be translated into amino acids (protein sequence)."
   ]
  },
  {
   "cell_type": "code",
   "execution_count": 56,
   "id": "e5a50649",
   "metadata": {},
   "outputs": [
    {
     "name": "stdout",
     "output_type": "stream",
     "text": [
      "Nucleotide sequence length: 168 (=3*56)\n",
      "Protein seuquence length:  56\n",
      "Protein sequence (first 50 aa): NDAIDMANDAIDMNDAIDNDAIDNDAIDNDAIDMANDAIDMNDAIDNDAI...\n"
     ]
    }
   ],
   "source": [
    "fasta_file = fasta.FastaFile.read(\"data/01_long_sequence.fasta\")\n",
    "header = list(fasta_file.keys())[0]\n",
    "seq = fasta.get_sequence(fasta_file, header)\n",
    "print(f\"Nucleotide sequence length: {len(seq)} (=3*{int(len(seq)/3)})\")\n",
    "\n",
    "# translation -> Proteins\n",
    "protein_seq = seq.translate(complete=True)\n",
    "print(\"Protein seuquence length: \", len(protein_seq))\n",
    "print(f\"Protein sequence (first 50 aa): {protein_seq[:50]}...\")"
   ]
  },
  {
   "cell_type": "markdown",
   "id": "483b9d9b",
   "metadata": {},
   "source": [
    "## Step 6: Read a FASTQ file\n",
    "\n",
    "FASTQ format:\n",
    "1. Header line starting with `@`\n",
    "2. Sequence line\n",
    "3. `+` line\n",
    "4. Quality string (ASCII encoded)\n",
    "\n",
    "We can parse FASTQ using Biotite."
   ]
  },
  {
   "cell_type": "code",
   "execution_count": 57,
   "id": "03d95247",
   "metadata": {},
   "outputs": [
    {
     "name": "stdout",
     "output_type": "stream",
     "text": [
      "File content:\n",
      "@SEQ_ID\n",
      "GATTTGGGGTTCAAAGCAGTATCGATCAAATAGTAAATCCATTTGTTCAACTCACAGTTT\n",
      "+\n",
      "!''*((((***+))%%%++)(%%%%).1***-+*''))**55CCF>>>>>>CCCCCCC65\n"
     ]
    }
   ],
   "source": [
    "# Example FASTQ file content\n",
    "print(\"File content:\")\n",
    "with open(\"data/01_example.fastq\", \"r\") as f:\n",
    "    for line in f.readlines():\n",
    "        print(line.strip())"
   ]
  },
  {
   "cell_type": "code",
   "execution_count": 59,
   "id": "23b65a0e-6b7c-47f8-a42a-763e12eac576",
   "metadata": {},
   "outputs": [
    {
     "name": "stdout",
     "output_type": "stream",
     "text": [
      "Read IDs: ['SEQ_ID']\n",
      "Sequence: GATTTGGGGTTCAAAGCAGTATCGATCAAATAGTAAATCCATTTGTTCAACTCACAGTTT\n",
      "Quality scores: [ 0  6  6  9  7  7  7  7  9  9  9 10  8  8  4  4  4 10 10  8  7  4  4  4\n",
      "  4  8 13 16  9  9  9 12 10  9  6  6  8  8  9  9 20 20 34 34 37 29 29 29\n",
      " 29 29 29 34 34 34 34 34 34 34 21 20]\n"
     ]
    }
   ],
   "source": [
    "fq = fastq.FastqFile.read(\"data/01_example.fastq\", offset=\"Sanger\")\n",
    "print(\"Read IDs:\", list(fq.keys()))\n",
    "\n",
    "sequence, quality_scores = fastq.get_sequence(fq, \"SEQ_ID\")\n",
    "print(\"Sequence:\", sequence)\n",
    "print(\"Quality scores:\", quality_scores)"
   ]
  },
  {
   "cell_type": "markdown",
   "id": "b1c2baed",
   "metadata": {},
   "source": [
    "## Step 7: Plot sequence qualities\n",
    "\n",
    "We can visualize the per-base quality scores as a bar chart."
   ]
  },
  {
   "cell_type": "code",
   "execution_count": 60,
   "id": "a4cd7dd7",
   "metadata": {},
   "outputs": [
    {
     "data": {
      "image/png": "[encoded data removed]",
      "text/plain": [
       "<Figure size 1000x300 with 1 Axes>"
      ]
     },
     "metadata": {},
     "output_type": "display_data"
    }
   ],
   "source": [
    "fig, ax = plt.subplots(figsize=(10, 3))\n",
    "ax.bar(\n",
    "    x=np.arange(len(sequence)),\n",
    "    height=quality_scores,\n",
    "    color='orange',\n",
    "    width=1.0,\n",
    "    edgecolor='black'\n",
    ")\n",
    "ax.set_xlim(-1, len(sequence))\n",
    "ax.set_ylim(0, 40)\n",
    "ax.set_ylabel(\"Phred Score\")\n",
    "ax.set_xlabel(\"Base Position\")\n",
    "ax.set_title(\"Per-base Quality Scores\")\n",
    "ax.set_xticks(np.arange(len(sequence)))\n",
    "ax.set_xticklabels(list(str(sequence)), fontsize=8)\n",
    "plt.tight_layout()\n",
    "plt.show()"
   ]
  },
  {
   "cell_type": "markdown",
   "id": "610fedce",
   "metadata": {},
   "source": [
    "# ✅ Summary\n",
    "\n",
    "- We loaded DNA sequences from a FASTA file.\n",
    "- Extracted headers and sequences.\n",
    "- Computed length, base counts, and GC content.\n",
    "- Visualized GC distribution.\n",
    "- Translated DNA to protein.\n",
    "- Loaded FASTQ reads and visualized quality scores.\n",
    "\n",
    "---"
   ]
  }
 ],
 "metadata": {
  "kernelspec": {
   "display_name": "Python 3 (ipykernel)",
   "language": "python",
   "name": "python3"
  },
  "language_info": {
   "codemirror_mode": {
    "name": "ipython",
    "version": 3
   },
   "file_extension": ".py",
   "mimetype": "text/x-python",
   "name": "python",
   "nbconvert_exporter": "python",
   "pygments_lexer": "ipython3",
   "version": "3.13.3"
  }
 },
 "nbformat": 4,
 "nbformat_minor": 5
}
