{
 "cells": [
  {
   "cell_type": "markdown",
   "id": "23cd1e33",
   "metadata": {},
   "source": [
    "\n",
    "# 🧬 Lab 4 — Pairwise Alignment & Homology Search"
   ]
  },
  {
   "cell_type": "markdown",
   "id": "59e36e4e",
   "metadata": {},
   "source": [
    "\n",
    "## Exercise 1 — Implement Needleman–Wunsch and Smith–Waterman (Code)\n"
   ]
  },
  {
   "cell_type": "code",
   "execution_count": null,
   "id": "e6aad7a0",
   "metadata": {},
   "outputs": [],
   "source": [
    "\n",
    "# Needleman-Wunsch and Smith-Waterman implementations (reference)\n",
    "import numpy as np\n",
    "from typing import Tuple, List\n",
    "\n",
    "def needleman_wunsch(seq1: str, seq2: str, match: int=1, mismatch: int=-1, gap: int=-2) -> Tuple[str, str, np.ndarray]:\n",
    "    n, m = len(seq1), len(seq2)\n",
    "    score_matrix = np.zeros((n+1, m+1), dtype=float)\n",
    "\n",
    "    aligned1 = ''\n",
    "    aligned2 = ''\n",
    "    return aligned1, aligned2, score_matrix\n",
    "    \n",
    "\n",
    "def smith_waterman(seq1: str, seq2: str, match: int=2, mismatch: int=-1, gap: int=-2) -> Tuple[str, str, np.ndarray, float]:\n",
    "    # uses 0 floor\n",
    "    n, m = len(seq1), len(seq2)\n",
    "    score_matrix = np.zeros((n+1, m+1), dtype=float)\n",
    "    max_i = max_j = 0\n",
    "    max_score = 0.0\n",
    "    aligned1 = ''\n",
    "    aligned2 = ''\n",
    "\n",
    "    return aligned1, aligned2, score_matrix, max_score\n",
    "    \n",
    "# Demo run\n",
    "seqA = \"GATTACA\"\n",
    "seqB = \"GCATGCU\"\n",
    "\n",
    "alnA, alnB, S_nw = needleman_wunsch(seqA, seqB, match=1, mismatch=-1, gap=-2)\n",
    "print(\"Needleman-Wunsch alignment:\")\n",
    "print(alnA)\n",
    "print(alnB)\n",
    "print(\"\\nSmith-Waterman (local):\")\n",
    "alnA2, alnB2, S_sw, max_score = smith_waterman(seqA, seqB, match=2, mismatch=-1, gap=-2)\n",
    "print(alnA2)\n",
    "print(alnB2)\n",
    "print(\"\\nNW score matrix (snippet):\")\n",
    "print(S_nw)\n"
   ]
  },
  {
   "cell_type": "markdown",
   "id": "aade2edd",
   "metadata": {},
   "source": [
    "\n",
    "## Exercise 2 — Biopython `pairwise2` (Protein & Nucleotide examples)\n",
    "\n",
    "**Goal:** Use `pairwise2` API for local/global alignment using substitution matrices. Print the matrices for different cases (PAM, PAM250, BLOSUM62)\n"
   ]
  },
  {
   "cell_type": "code",
   "execution_count": null,
   "id": "1ca6a630",
   "metadata": {},
   "outputs": [],
   "source": [
    "\n",
    "from Bio import pairwise2\n",
    "from Bio.Align import substitution_matrices\n",
    "\n",
    "# Protein example (small Ras sequence fragment)\n",
    "prot1 = \"MTEYKLVVVGAGGVGKSALTIQLIQNHFVDEYDPTIEDSYRKQV\"\n",
    "prot2 = \"MTEYKLVVVGAGGVGKSALTIKLIGRNHFVDEYDPTIEDSYRKQV\"  # small change\n",
    "\n",
    "# Nucleotide example\n",
    "seq1 = \"ATGCGTACGTTAG\"\n",
    "seq2 = \"ATGTACGTAG\"\n",
    "\n",
    "# TODO load matrix using substitution_matrices.load(), \n",
    "# align protein sequences and nucleotide sequences using globalds, globalms. \n",
    "# Use different scoring functions and different gap penalties. Print matrices\n",
    "\n"
   ]
  },
  {
   "cell_type": "markdown",
   "id": "b8a24b03",
   "metadata": {},
   "source": [
    "\n",
    "## Exercise 3 — BLAST via NCBIWWW (Protein and Nucleotide)\n",
    "\n",
    "**Goal:** Submit BLASTp and BLASTn jobs programmatically and parse results. Plot E-value vs Bit score, Identity vs Query Coverage and Bit Score vs Identity.\n",
    "**Warning:** These cells will make live network calls to NCBI. If running in a restricted environment, comment out the network cells and use the provided offline fallback below.\n"
   ]
  },
  {
   "cell_type": "code",
   "execution_count": null,
   "id": "0d5699f8",
   "metadata": {},
   "outputs": [],
   "source": [
    "\n",
    "# Protein BLAST (BLASTp) example - [NETWORK REQUIRED]\n",
    "from Bio.Blast import NCBIWWW, NCBIXML\n",
    "prot_query = 'MTEYKLVVVGAGGVGKSALTIQLIQNHFVDEYDPTIEDSYRKQV'  # RAS fragment\n",
    "\n",
    "# TODO use NCBIWWW.qblast() to submit BLASTp query, use NCBIXML.read() to parse results\n",
    "# Print top 5 hits, plot E-value vs Bit score, Identity vs Query Coverage and Bit Score vs Identity\n",
    "# Plot E-value vs Bit score\n",
    "# Plot Identity vs Query Coverage\n",
    "# Plot Bit Score vs Identity\n",
    "\n"
   ]
  },
  {
   "cell_type": "code",
   "execution_count": null,
   "id": "72173b3c",
   "metadata": {},
   "outputs": [],
   "source": [
    "# TODO perform BLASTn search for the query. Print top5 results. Print E-value and bit score for each hit.\n",
    "# Nucleotide BLAST (BLASTn) example - [NETWORK REQUIRED]\n",
    "from Bio.Blast import NCBIWWW, NCBIXML\n",
    "nt_query = 'ATGCGTACGTTAGCTAGCTAGCTAGCTAG'  # synthetic\n"
   ]
  },
  {
   "cell_type": "markdown",
   "id": "dd3894a6",
   "metadata": {},
   "source": [
    "\n",
    "## Exercise 4 — Sequence Embeddings (Protein & Nucleotide)\n",
    "**Goal:** Provide an example of using pretrained models to compute embeddings and compare similarity without alignment.\n",
    "- Protein models: ESM, ProtTrans (HuggingFace)  \n"
   ]
  },
  {
   "cell_type": "code",
   "execution_count": null,
   "id": "fb5733c7",
   "metadata": {},
   "outputs": [],
   "source": [
    "\n",
    "# Example with HuggingFace transformers (protein model) - [NETWORK REQUIRED]\n",
    "# First install: pip install transformers sentencepiece torch\n",
    "\n",
    "try:\n",
    "    from transformers import AutoTokenizer, AutoModel\n",
    "    import torch\n",
    "    import numpy as np\n",
    "    from sklearn.metrics.pairwise import cosine_similarity\n",
    "    \n",
    "    print(\"Loading ESM2 model from HuggingFace...\")\n",
    "    tokenizer = AutoTokenizer.from_pretrained(\"facebook/esm2_t6_8M_UR50D\")\n",
    "    model = AutoModel.from_pretrained(\"facebook/esm2_t6_8M_UR50D\")\n",
    "    \n",
    "    # Two protein sequences to compare\n",
    "    seq1 = \"MTEYKLVVVGAGGVGKSALTIQLIQNHFVDEYDPTIEDSYRKQV\"\n",
    "    seq2 = \"MTEYKLVVVGAGGVGKSALTIKLIGRNHFVDEYDPTIEDSYRKQV\"  # Same sequence for demo\n",
    "    \n",
    "    print(f\"Sequence 1: {seq1}\")\n",
    "    print(f\"Sequence 2: {seq2}\")\n",
    "    \n",
    "    # TODO Tokenize inputs using ESM2 tokenizer\n",
    "    # TODO Get embeddings using ESM2 model\n",
    "    # TODO Calculate cosine similarity between embeddings\n",
    "    # TODO Print similarity score\n"
   ]
  }
 ],
 "metadata": {
  "kernelspec": {
   "display_name": "Python 3 (ipykernel)",
   "language": "python",
   "name": "python3"
  },
  "language_info": {
   "codemirror_mode": {
    "name": "ipython",
    "version": 3
   },
   "file_extension": ".py",
   "mimetype": "text/x-python",
   "name": "python",
   "nbconvert_exporter": "python",
   "pygments_lexer": "ipython3",
   "version": "3.13.3"
  }
 },
 "nbformat": 4,
 "nbformat_minor": 5
}
