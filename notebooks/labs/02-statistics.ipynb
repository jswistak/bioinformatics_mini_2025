{
 "cells": [
  {
   "cell_type": "markdown",
   "id": "f4b941ee",
   "metadata": {},
   "source": [
    "# Lab 2: Probability, Statistics & Significance in Bioinformatics\n",
    "\n",
    "This notebook follows the 90-minute lab exercises: from sampling and t-tests to BH FDR, bootstrapping, and a short Bayesian demo. The notebook will attempt to download a small RNA-seq dataset from GEO; if that fails (no internet / package), it will simulate a dataset.\n",
    "\n",
    "**Environment:** Python, `numpy`, `pandas`, `scipy`, `statsmodels`, `matplotlib`, `seaborn`.\n"
   ]
  },
  {
   "cell_type": "code",
   "execution_count": null,
   "id": "ac9e7a51",
   "metadata": {},
   "outputs": [],
   "source": [
    "import numpy as np\n",
    "import pandas as pd\n",
    "import matplotlib.pyplot as plt\n",
    "import seaborn as sns\n",
    "from scipy import stats\n",
    "import statsmodels.api as sm\n",
    "from statsmodels.stats.multitest import multipletests\n",
    "\n",
    "sns.set(style='whitegrid', context='notebook', rc={'figure.figsize':(8,5)})\n",
    "np.random.seed(42)\n",
    "\n",
    "print('Libraries imported. numpy, pandas, scipy, statsmodels, matplotlib, seaborn')"
   ]
  },
  {
   "cell_type": "code",
   "execution_count": null,
   "id": "1843ecc6",
   "metadata": {},
   "outputs": [],
   "source": [
    "# Try to fetch GEO dataset; fallback to simulated if unavailable\n",
    "use_real = False\n",
    "try:\n",
    "    import GEOparse\n",
    "    print('GEOparse available. Attempting to download a small dataset (this may fail if no internet).')\n",
    "    gse_id = 'GSE10072'\n",
    "    try:\n",
    "        gse = GEOparse.get_GEO(geo=gse_id, destdir='.')\n",
    "        \n",
    "        # Try to get expression data from the correct location\n",
    "        if hasattr(gse, 'pivot_samples') and callable(gse.pivot_samples):\n",
    "            try:\n",
    "                expr_table = gse.pivot_samples('VALUE')\n",
    "                if expr_table is not None and not expr_table.empty:\n",
    "                    use_real = True\n",
    "                    print(f'Loaded expression table from {gse_id} (shape: {expr_table.shape})')\n",
    "                else:\n",
    "                    print('Expression table is empty; will fallback to simulation.')\n",
    "            except Exception as pivot_e:\n",
    "                print(f'Failed to pivot samples: {pivot_e}')\n",
    "                # Try alternative method - access through samples\n",
    "                if hasattr(gse, 'samples') and gse.samples:\n",
    "                    sample_data = []\n",
    "                    sample_names = []\n",
    "                    for sample_id, sample in gse.samples.items():\n",
    "                        if hasattr(sample, 'table') and sample.table is not None:\n",
    "                            sample_data.append(sample.table['VALUE'].values)\n",
    "                            sample_names.append(sample_id)\n",
    "                    \n",
    "                    if sample_data:\n",
    "                        expr_table = pd.DataFrame(sample_data).T\n",
    "                        expr_table.columns = sample_names\n",
    "                        use_real = True\n",
    "                        print(f'Loaded expression table from {gse_id} via samples (shape: {expr_table.shape})')\n",
    "                    else:\n",
    "                        print('No expression data found in samples; will fallback to simulation.')\n",
    "                else:\n",
    "                    print('No samples found; will fallback to simulation.')\n",
    "        else:\n",
    "            print('GSE object does not have pivot_samples method; will fallback to simulation.')\n",
    "    except Exception as e:\n",
    "        print('Failed to download or parse GEO series:', e)\n",
    "except Exception as e:\n",
    "    print('GEOparse not available or import failed:', e)\n",
    "\n",
    "if not use_real:\n",
    "    print('Falling back to simulated RNA-seq-like dataset (Negative Binomial counts).')\n",
    "    n_genes = 100\n",
    "    n_ctrl = 3\n",
    "    n_treat = 3\n",
    "    mu = np.random.gamma(shape=2.0, scale=10.0, size=n_genes)\n",
    "    dispersion = 0.2\n",
    "    counts_ctrl = np.vstack([np.random.negative_binomial(n=1/dispersion, p=(1/(1+mu[i]*dispersion)), size=n_ctrl)\n",
    "                              for i in range(n_genes)])\n",
    "    mu_treat = mu.copy()\n",
    "    de_genes = np.random.choice(n_genes, size=10, replace=False)\n",
    "    mu_treat[de_genes[:5]] *= 3.0\n",
    "    mu_treat[de_genes[5:]] *= 0.4\n",
    "    counts_treat = np.vstack([np.random.negative_binomial(n=1/dispersion, p=(1/(1+mu_treat[i]*dispersion)), size=n_treat)\n",
    "                               for i in range(n_genes)])\n",
    "    counts = np.hstack([counts_ctrl, counts_treat]).astype(int)\n",
    "    sample_labels = ['ctrl1','ctrl2','ctrl3','trt1','trt2','trt3']\n",
    "    expr_df = pd.DataFrame(counts, columns=sample_labels)\n",
    "    expr_df.index = [f'gene_{i+1}' for i in range(n_genes)]\n",
    "    print('Simulated count matrix shape:', expr_df.shape)\n",
    "    expr_df.head()\n",
    "else:\n",
    "    # Process real GEO data\n",
    "    print('Using real GEO data. Processing expression matrix...')\n",
    "    # Clean up the data - remove any non-numeric columns and handle missing values\n",
    "    expr_df = expr_table.select_dtypes(include=[np.number])\n",
    "    expr_df = expr_df.fillna(0)  # Fill missing values with 0\n",
    "    \n",
    "    # If we have too many genes, subsample for computational efficiency\n",
    "    if expr_df.shape[0] > 1000:\n",
    "        print(f'Subsampling from {expr_df.shape[0]} to 1000 genes for efficiency')\n",
    "        expr_df = expr_df.sample(n=1000, random_state=42)\n",
    "    \n",
    "    # Create artificial treatment groups for demonstration\n",
    "    # In real analysis, you would use the actual sample metadata\n",
    "    n_samples = expr_df.shape[1]\n",
    "    n_ctrl = n_samples // 2\n",
    "    n_treat = n_samples - n_ctrl\n",
    "    \n",
    "    # Rename columns to match the expected format\n",
    "    ctrl_cols = expr_df.columns[:n_ctrl]\n",
    "    treat_cols = expr_df.columns[n_ctrl:n_ctrl+n_treat]\n",
    "    \n",
    "    # Rename columns for consistency with the rest of the notebook\n",
    "    new_cols = ['ctrl' + str(i+1) for i in range(n_ctrl)] + ['trt' + str(i+1) for i in range(n_treat)]\n",
    "    expr_df.columns = new_cols\n",
    "    \n",
    "    print(f'Real data matrix shape: {expr_df.shape}')\n",
    "    print('Sample groups:', new_cols)\n",
    "    expr_df.head()"
   ]
  },
  {
   "cell_type": "markdown",
   "id": "2a458a0f",
   "metadata": {},
   "source": [
    "## Exercise 0 — Setup & Warm-up\n",
    "\n",
    "Explore the dataset: view head, summary statistics, and plot histogram of expression for one gene."
   ]
  },
  {
   "cell_type": "code",
   "execution_count": null,
   "id": "4d47faf6",
   "metadata": {},
   "outputs": [],
   "source": [
    "print('Expression matrix shape:', expr_df.shape)\n",
    "expr_df.head()\n",
    "\n",
    "expr_df.describe().T.head()\n",
    "\n",
    "# Plot histogram of a single gene\n",
    "gene = expr_df.index[0]\n",
    "\n",
    "# TODO Plot a histogram of gene expression"
   ]
  },
  {
   "cell_type": "markdown",
   "id": "4db2893e",
   "metadata": {},
   "source": [
    "## Exercise 1 — Probability & Sampling"
   ]
  },
  {
   "cell_type": "code",
   "execution_count": null,
   "id": "5c5db834",
   "metadata": {},
   "outputs": [],
   "source": [
    "pop = np.random.normal(loc=10, scale=2, size=100000)\n",
    "for n in [10,50,200]:\n",
    "    means = [np.mean(np.random.choice(pop, size=n, replace=True)) for _ in range(2000)]\n",
    "    sns.kdeplot(means, label=f'n={n}')\n",
    "plt.legend()\n",
    "plt.title('Sampling distribution of the mean for different sample sizes')\n",
    "plt.show()\n",
    "\n",
    "# Compare Poisson and NB\n",
    "lam = 10\n",
    "pois = np.random.poisson(lam, size=1000)\n",
    "nb = np.random.negative_binomial(n=1/0.2, p=(1/(1+lam*0.2)), size=1000)\n",
    "\n",
    "# TODO plot overlay of Poisson and NB distributions"
   ]
  },
  {
   "cell_type": "markdown",
   "id": "0a3df020",
   "metadata": {},
   "source": [
    "## Exercise 2 — Hypothesis Testing: t-test"
   ]
  },
  {
   "cell_type": "code",
   "execution_count": null,
   "id": "96b58aad",
   "metadata": {},
   "outputs": [],
   "source": [
    "gene = expr_df.index[0]\n",
    "ctrl = expr_df.loc[gene, expr_df.columns.str.contains('ctrl')]\n",
    "trt = expr_df.loc[gene, expr_df.columns.str.contains('trt')]\n",
    "tstat, pval = stats.ttest_ind(ctrl, trt, equal_var=False)\n",
    "print(f'Gene: {gene}, t-stat={tstat:.3f}, p-value={pval:.3g}')\n",
    "\n",
    "# boxplot\n",
    "import pandas as pd\n",
    "data = pd.DataFrame({'count': np.concatenate([ctrl.values, trt.values]),\n",
    "                     'group': ['ctrl']*len(ctrl) + ['trt']*len(trt)})\n",
    "\n",
    "# TODO plot boxplot containing both ctrl and trt groups. What does the boxplot tell you?\n"
   ]
  },
  {
   "cell_type": "markdown",
   "id": "c588d51e",
   "metadata": {},
   "source": [
    "## Exercise 3 — ANOVA"
   ]
  },
  {
   "cell_type": "code",
   "execution_count": null,
   "id": "a292cc65",
   "metadata": {},
   "outputs": [],
   "source": [
    "g1 = np.random.normal(10,2,20)\n",
    "g2 = np.random.normal(11,2,20)\n",
    "g3 = np.random.normal(14,2,20)\n",
    "fstat, pval_anova = stats.f_oneway(g1,g2,g3)\n",
    "print(f'ANOVA F-stat={fstat:.3f}, p-value={pval_anova:.3g}')\n",
    "\n",
    "df_anova = pd.DataFrame({'value': np.concatenate([g1,g2,g3]),\n",
    "                         'group': ['g1']*len(g1) + ['g2']*len(g2) + ['g3']*len(g3)})\n",
    "# TODO plot boxplot containing all three groups. What does the boxplot tell you?"
   ]
  },
  {
   "cell_type": "markdown",
   "id": "5ee10ff3",
   "metadata": {},
   "source": [
    "## Exercise 4 — Multiple Testing & FDR"
   ]
  },
  {
   "cell_type": "code",
   "execution_count": null,
   "id": "f73cb9ff",
   "metadata": {},
   "outputs": [],
   "source": [
    "pvals = []\n",
    "log2fc = []\n",
    "# Obtain p-values and log2FC for all genes\n",
    "for g in expr_df.index:\n",
    "    a = expr_df.loc[g, expr_df.columns.str.contains('ctrl')].values\n",
    "    b = expr_df.loc[g, expr_df.columns.str.contains('trt')].values\n",
    "    t, p = stats.ttest_ind(a, b, equal_var=False)\n",
    "    pvals.append(p if not np.isnan(p) else 1.0)\n",
    "    log2fc.append(np.log2((b.mean()+1)/(a.mean()+1)))\n",
    "\n",
    "pvals = np.array(pvals)\n",
    "log2fc = np.array(log2fc)\n",
    "rej, pvals_corrected, alphacSidak, alphacBonf = multipletests(pvals, alpha=0.05, method='fdr_bh')\n",
    "print(f\"Raw significant (p<0.05): {(pvals<0.05).sum()} / {len(pvals)}\")\n",
    "print(f\"BH-significant (FDR<0.05): {rej.sum()}\")\n",
    "\n",
    "# TODO plot volcano plot of all genes (scatter plot of log2FC vs -log10(p-value)). What does the volcano plot tell you?\n"
   ]
  },
  {
   "cell_type": "markdown",
   "id": "b6406db6",
   "metadata": {},
   "source": [
    "## Exercise 5 — DGE Mini-Analysis"
   ]
  },
  {
   "cell_type": "code",
   "execution_count": null,
   "id": "fdd7207b",
   "metadata": {},
   "outputs": [],
   "source": [
    "res = pd.DataFrame({'gene': expr_df.index, 'log2FC': log2fc, 'pval': pvals, 'pval_adj': pvals_corrected, 'significant': rej}).set_index('gene').sort_values('pval')\n",
    "res.head()\n",
    "import seaborn as sns\n",
    "\n",
    "# top genes\n",
    "# TODO select top 10 upregulated and downregulated genes. What do you think about the results?\n",
    "top_up = []\n",
    "top_down = []\n",
    "\n",
    "# Heatmap\n",
    "# TODO plot heatmap of top candidate genes. What does the heatmap tell you?"
   ]
  },
  {
   "cell_type": "markdown",
   "id": "1bdc2651",
   "metadata": {},
   "source": [
    "## Exercise 6 — Bootstrapping Confidence Intervals"
   ]
  },
  {
   "cell_type": "code",
   "execution_count": null,
   "id": "b8748433",
   "metadata": {},
   "outputs": [],
   "source": [
    "gene = expr_df.index[0]\n",
    "values = expr_df.loc[gene].values\n",
    "n_boot = 2000\n",
    "# TODO plot bootstrap distribution of mean for the first gene (sample randomly with replacement from the gene's mean expression values, and then calculate Confidence Interval [2.5,97.5]). \n"
   ]
  },
  {
   "cell_type": "markdown",
   "id": "33c22bdd",
   "metadata": {},
   "source": [
    "## Exercise 7 — Bayesian Inference Basics (Simple Demo)"
   ]
  },
  {
   "cell_type": "code",
   "execution_count": null,
   "id": "60ee88bd",
   "metadata": {},
   "outputs": [],
   "source": [
    "from scipy.stats import beta\n",
    "# Let's say we have a coin that we know is fair (p=0.5). We flip it 6 times and get 4 heads. What is the posterior distribution of the probability of heads?\n",
    "alpha_prior, beta_prior = 1, 1\n",
    "successes = 4\n",
    "trials = 6\n",
    "# The coin toss may be biased, so we update our prior belief about the probability of heads.\n",
    "# The coin toss may be modelled by a binomial distribution, which is a special case of the beta-binomial distribution.\n",
    "# The beta-binomial distribution is a conjugate prior for the binomial distribution.\n",
    "# The posterior distribution is given by the beta distribution.\n",
    "alpha_post = alpha_prior + successes\n",
    "beta_post = beta_prior + (trials - successes)\n",
    "x = np.linspace(0,1,200)\n",
    "\n",
    "# TODO plot prior and posterior distributions. What does the posterior distribution tell you?\n"
   ]
  },
  {
   "cell_type": "markdown",
   "id": "8a5f365d",
   "metadata": {},
   "source": [
    "## Exercise 8 — Model Confidence in ML (Optional)"
   ]
  },
  {
   "cell_type": "code",
   "execution_count": null,
   "id": "87eabb2d",
   "metadata": {},
   "outputs": [],
   "source": [
    "from sklearn.linear_model import LogisticRegression\n",
    "from sklearn.metrics import accuracy_score\n",
    "\n",
    "# Demonstration of a simple model confidence interval\n",
    "\n",
    "X = expr_df.T.mean(axis=1).values.reshape(-1,1)\n",
    "y = np.array([0]*3 + [1]*3)\n",
    "accs = []\n",
    "for _ in range(200):\n",
    "    idx = np.random.choice(len(y), size=len(y), replace=True)\n",
    "    Xb, yb = X[idx], y[idx]\n",
    "    clf = LogisticRegression().fit(Xb, yb)\n",
    "    preds = clf.predict(Xb)\n",
    "    accs.append(accuracy_score(yb, preds))\n",
    "np.percentile(accs, [2.5,50,97.5])"
   ]
  }
 ],
 "metadata": {
  "kernelspec": {
   "display_name": ".venv",
   "language": "python",
   "name": "python3"
  },
  "language_info": {
   "codemirror_mode": {
    "name": "ipython",
    "version": 3
   },
   "file_extension": ".py",
   "mimetype": "text/x-python",
   "name": "python",
   "nbconvert_exporter": "python",
   "pygments_lexer": "ipython3",
   "version": "3.13.3"
  }
 },
 "nbformat": 4,
 "nbformat_minor": 5
}
